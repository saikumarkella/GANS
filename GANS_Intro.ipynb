{
  "nbformat": 4,
  "nbformat_minor": 0,
  "metadata": {
    "colab": {
      "provenance": []
    },
    "kernelspec": {
      "name": "python3",
      "display_name": "Python 3"
    },
    "language_info": {
      "name": "python"
    }
  },
  "cells": [
    {
      "cell_type": "markdown",
      "source": [
        "### First GANs\n",
        "\n",
        "**Problem Statement:** Generating the MNIST numbers randomly.\n",
        "- Building the Generator and discriminator of a GANS from scratch.\n",
        "- Create a Generator and discriminator loss functions.\n",
        "- Training a GAN and visualizing the Generated Images."
      ],
      "metadata": {
        "id": "uvhPooQJXoIj"
      }
    },
    {
      "cell_type": "code",
      "source": [
        "### importing the modules\n",
        "import tensorflow as tf\n",
        "from tensorflow import keras\n",
        "import numpy as np\n",
        "from tqdm.auto import tqdm\n",
        "import matplotlib.pyplot as plt"
      ],
      "metadata": {
        "id": "dXx5HtO7XrKs"
      },
      "execution_count": 2,
      "outputs": []
    },
    {
      "cell_type": "code",
      "source": [
        "### loading the mnist dataset\n",
        "(x_train, y_train), (x_val, y_val) = keras.datasets.mnist.load_data()"
      ],
      "metadata": {
        "colab": {
          "base_uri": "https://localhost:8080/"
        },
        "id": "pBI8LeYRZKcX",
        "outputId": "d55a2637-e5f2-4cc7-b236-7e462aaac87c"
      },
      "execution_count": 3,
      "outputs": [
        {
          "output_type": "stream",
          "name": "stdout",
          "text": [
            "Downloading data from https://storage.googleapis.com/tensorflow/tf-keras-datasets/mnist.npz\n",
            "11490434/11490434 [==============================] - 0s 0us/step\n"
          ]
        }
      ]
    },
    {
      "cell_type": "code",
      "source": [
        "### details of the image dataset.\n",
        "print(\"The shape of the training dataset : \", x_train.shape, y_train.shape)\n",
        "print(\"The shape of the validation dataset : \", x_val.shape, y_val.shape)"
      ],
      "metadata": {
        "colab": {
          "base_uri": "https://localhost:8080/"
        },
        "id": "rzylOCLueC8F",
        "outputId": "9a6dfc39-8101-4ff4-f881-bea6b8bd34ee"
      },
      "execution_count": 4,
      "outputs": [
        {
          "output_type": "stream",
          "name": "stdout",
          "text": [
            "The shape of the training dataset :  (60000, 28, 28) (60000,)\n",
            "The shape of the validation dataset :  (10000, 28, 28) (10000,)\n"
          ]
        }
      ]
    },
    {
      "cell_type": "code",
      "source": [
        "def showing_tensor_images(image_tensor):\n",
        "  '''\n",
        "    ## showing the image tensors\n",
        "    >> unflat the image\n",
        "    >> gridding the image\n",
        "    >> plotting image.\n",
        "    >> showing the images.\n",
        "  '''\n",
        "  image = tf.convert_to_tensor(image_tensor)\n",
        "  image = tf.expand_dims(image, axis=-1)\n",
        "  plt.imshow(image)\n"
      ],
      "metadata": {
        "id": "mp2WzkBwhvWA"
      },
      "execution_count": 5,
      "outputs": []
    },
    {
      "cell_type": "code",
      "source": [
        "showing_tensor_images(x_train[0])"
      ],
      "metadata": {
        "colab": {
          "base_uri": "https://localhost:8080/",
          "height": 430
        },
        "id": "vmQbkWHln2-x",
        "outputId": "32b4a0f4-4896-4eb9-c697-fed41839890f"
      },
      "execution_count": 6,
      "outputs": [
        {
          "output_type": "display_data",
          "data": {
            "text/plain": [
              "<Figure size 640x480 with 1 Axes>"
            ],
            "image/png": "[encoded data removed]"
          },
          "metadata": {}
        }
      ]
    },
    {
      "cell_type": "markdown",
      "source": [
        "**Creating a generator Componets**\n",
        "- linear transformation ( mapping to the another shape ).\n",
        "- Batch Normalization ( stabilization ).\n",
        "- Non-linear activation ( the output can be transformed into complex world )."
      ],
      "metadata": {
        "id": "Cx42GzdXpBnY"
      }
    },
    {
      "cell_type": "code",
      "source": [
        "### Creating a generator Network\n",
        "class generator_block(keras.layers.Layer):\n",
        "\n",
        "  def __init__(self, output_dims, **kwargs):\n",
        "    super().__init__(**kwargs)\n",
        "    self.linear = keras.layers.Dense(output_dims)\n",
        "    self.bn = keras.layers.BatchNormalization()\n",
        "    self.act = keras.layers.Activation(\"relu\")\n",
        "\n",
        "  def call(self, inputs):\n",
        "    x = self.linear(inputs)\n",
        "    x = self.bn(x)\n",
        "    x = self.act(x)\n",
        "    return x\n",
        "\n",
        "\n"
      ],
      "metadata": {
        "id": "bNdkgN8Bn9fL"
      },
      "execution_count": 79,
      "outputs": []
    },
    {
      "cell_type": "code",
      "source": [
        "### Sanity-checks\n",
        "gen_b = generator_block(10)\n",
        "out = gen_b(x_train[:1])"
      ],
      "metadata": {
        "id": "RwbO3nzztZMZ"
      },
      "execution_count": 10,
      "outputs": []
    },
    {
      "cell_type": "markdown",
      "source": [
        "### Generator\n",
        "Inputs:\n",
        "  1. The Noise vector dimensions\n",
        "  2. The Image dimensions\n",
        "  3. The initial hidden dimensions"
      ],
      "metadata": {
        "id": "nU_RkFjM_xZ1"
      }
    },
    {
      "cell_type": "code",
      "source": [
        "\n",
        "class Generator(keras.Model):\n",
        "\n",
        "  def __init__(self, intial_dims = 64, output_dims = 784, **kwargs):\n",
        "    super().__init__(**kwargs)\n",
        "    self.flatten = keras.layers.Flatten()\n",
        "    self.gen_b1 = generator_block(intial_dims)\n",
        "    self.dropout1 = keras.layers.Dropout(0.4)\n",
        "    self.gen_b2 = generator_block(intial_dims * 2)\n",
        "    self.dropout2 = keras.layers.Dropout(0.5)\n",
        "    self.gen_b3 = generator_block(intial_dims *4)\n",
        "    self.dropout3 = keras.layers.Dropout(0.3)\n",
        "    self.gen_b4 = generator_block(output_dims)\n",
        "    self.reshape = tf.keras.layers.Reshape(target_shape = (28,28,1))\n",
        "\n",
        "  def call(self, inputs):\n",
        "    x = self.flatten(inputs)\n",
        "    x = self.gen_b1(x)\n",
        "    # x = self.dropout1(x)\n",
        "    x = self.gen_b2(x)\n",
        "    # x = self.dropout2(x)\n",
        "    x = self.gen_b3(x)\n",
        "    # x = self.dropout3(x)\n",
        "    x = self.gen_b4(x)\n",
        "    x = self.reshape(x)\n",
        "    return x\n"
      ],
      "metadata": {
        "id": "gOMW7tcxuTxP"
      },
      "execution_count": 120,
      "outputs": []
    },
    {
      "cell_type": "code",
      "source": [
        "### Sanity-Checking\n",
        "'''\n",
        "  1. Creating the random noise (it is an input)\n",
        "  2. passing the input to the generator\n",
        "  3. get the output from the generator\n",
        "  4. plot the output image through the image plot.\n",
        "'''\n",
        "noise = tf.random.normal(shape = (1, 64), mean = 0, stddev = 1)\n",
        "generator = Generator()\n",
        "output = generator(noise)\n",
        "plt.imshow(output[0])"
      ],
      "metadata": {
        "colab": {
          "base_uri": "https://localhost:8080/",
          "height": 448
        },
        "id": "uDidL75HuYb5",
        "outputId": "fc80e137-5c2a-4e66-fb66-15ac3940707f"
      },
      "execution_count": 121,
      "outputs": [
        {
          "output_type": "execute_result",
          "data": {
            "text/plain": [
              "<matplotlib.image.AxesImage at 0x7f59e0d00a30>"
            ]
          },
          "metadata": {},
          "execution_count": 121
        },
        {
          "output_type": "display_data",
          "data": {
            "text/plain": [
              "<Figure size 640x480 with 1 Axes>"
            ],
            "image/png": "[encoded data removed]"
          },
          "metadata": {}
        }
      ]
    },
    {
      "cell_type": "markdown",
      "source": [
        "#### Creating a Noise"
      ],
      "metadata": {
        "id": "0a-80aiILFCL"
      }
    },
    {
      "cell_type": "code",
      "source": [
        "### creating a random noise\n",
        "def get_noise(n_samples, n_dims, std_dev, mean, device = \"cpu\"):\n",
        "  return tf.random.normal(shape = (n_samples, n_dims), mean = mean, stddev = std_dev)"
      ],
      "metadata": {
        "id": "FJl-4dXJukfo"
      },
      "execution_count": 122,
      "outputs": []
    },
    {
      "cell_type": "markdown",
      "source": [
        "### Discriminator\n",
        "- Here we will use the Leaky Relu ( which will deactivate )"
      ],
      "metadata": {
        "id": "LvNVwtH1Mm6p"
      }
    },
    {
      "cell_type": "code",
      "source": [
        "### discriminator component\n",
        "class discrimnator_block(keras.layers.Layer):\n",
        "\n",
        "  def __init__(self, n_dims, **kwargs):\n",
        "    super().__init__(**kwargs)\n",
        "    self.linear = keras.layers.Dense(n_dims)\n",
        "    self.act = keras.layers.LeakyReLU(alpha = 0.5)\n",
        "\n",
        "  def call(self,inputs):\n",
        "    x = self.linear(inputs)\n",
        "    x = self.act(x)\n",
        "    return x\n"
      ],
      "metadata": {
        "id": "k_ryLaCIFjkk"
      },
      "execution_count": 138,
      "outputs": []
    },
    {
      "cell_type": "code",
      "source": [
        "### Building the Dsiscriminator using the discriminator blocks\n",
        "\n",
        "class Discriminator(keras.Model):\n",
        "\n",
        "  def __init__(self, input_dims = 32, ouput_dims = 1, **kwargs):\n",
        "    super().__init__(**kwargs)\n",
        "    self.flatten = keras.layers.Flatten()\n",
        "    self.disc_b1 = discrimnator_block(input_dims * 4)\n",
        "    self.dropout1 = keras.layers.Dropout(0.4)\n",
        "    self.disc_b2 = discrimnator_block(input_dims * 2)\n",
        "    self.dropout2 = keras.layers.Dropout(0.5)\n",
        "    self.disc_b3 = discrimnator_block(input_dims)\n",
        "    self.dropout3 = keras.layers.Dropout(0.7)\n",
        "\n",
        "    self.disc_b4 = keras.layers.Dense(1, activation = \"sigmoid\")\n",
        "\n",
        "  def call(self, inputs):\n",
        "    x = self.flatten(inputs)\n",
        "    x = self.disc_b1(x)\n",
        "    # x = self.dropout1(x)\n",
        "    x = self.disc_b2(x)\n",
        "    # x = self.dropout2(x)\n",
        "    x = self.disc_b3(x)\n",
        "    # x = self.dropout3(x)\n",
        "    x = self.disc_b4(x)\n",
        "    return x\n"
      ],
      "metadata": {
        "id": "bQSBPH5AGJqI"
      },
      "execution_count": 124,
      "outputs": []
    },
    {
      "cell_type": "code",
      "source": [
        "### sanity checks\n",
        "discriminator = Discriminator()\n",
        "output = discriminator(x_train[:1])"
      ],
      "metadata": {
        "id": "YYm6Ptq7sNYZ"
      },
      "execution_count": 125,
      "outputs": []
    },
    {
      "cell_type": "code",
      "source": [
        "output"
      ],
      "metadata": {
        "id": "lRREFOb8smFc",
        "colab": {
          "base_uri": "https://localhost:8080/"
        },
        "outputId": "5378d579-964f-489f-8a62-77cffaaba9ea"
      },
      "execution_count": 126,
      "outputs": [
        {
          "output_type": "execute_result",
          "data": {
            "text/plain": [
              "<tf.Tensor: shape=(1, 1), dtype=float32, numpy=array([[1.8669352e-15]], dtype=float32)>"
            ]
          },
          "metadata": {},
          "execution_count": 126
        }
      ]
    },
    {
      "cell_type": "markdown",
      "source": [
        "### Training\n",
        "**Essentials for the training the network**\n",
        "- criterion => loss function (cross entropy and econstruction loss, KL divergence )\n",
        "- n_epochs\n",
        "- z_dims => dimension of noise vector.\n",
        "- batch_size => the batch size of the training steps\n",
        "- lr => learnining rate\n",
        "- device => CPU / GPU\n"
      ],
      "metadata": {
        "id": "WHVmp3COsuE_"
      }
    },
    {
      "cell_type": "code",
      "source": [
        "criterion = keras.losses.BinaryCrossentropy()\n",
        "n_epochs = 5\n",
        "z_dims = 64\n",
        "batch_size = 128\n",
        "lr = 0.00004\n",
        "device = \"cpu\""
      ],
      "metadata": {
        "id": "AS4Ca_s9snAj"
      },
      "execution_count": 127,
      "outputs": []
    },
    {
      "cell_type": "code",
      "source": [
        "### reshaping the training  and validation dataset\n",
        "x_train = np.expand_dims(x_train, axis = -1)\n",
        "y_train = np.expand_dims(y_train, axis = -1)"
      ],
      "metadata": {
        "id": "nZkLDX2-w6vE"
      },
      "execution_count": 128,
      "outputs": []
    },
    {
      "cell_type": "code",
      "source": [
        "### Data Loaders\n",
        "\n",
        "## converting the features in to the tensors\n",
        "features = tf.convert_to_tensor(x_train)\n",
        "labels = tf.convert_to_tensor(y_train)\n",
        "\n",
        "dataloaders = tf.data.Dataset.from_tensor_slices((features, labels))\n",
        "dataloaders = dataloaders.batch(batch_size)\n"
      ],
      "metadata": {
        "id": "k5S1eUF9vALt"
      },
      "execution_count": 129,
      "outputs": []
    },
    {
      "cell_type": "code",
      "source": [
        "### Gettiing the generator and the discriminator\n",
        "gen_network = Generator()\n",
        "gen_optimizer = keras.optimizers.Adam(learning_rate=lr)\n",
        "\n",
        "dis_network = Discriminator()\n",
        "dis_optimizer = keras.optimizers.Adam(learning_rate = lr)"
      ],
      "metadata": {
        "id": "vpqLOpEkOdZB"
      },
      "execution_count": 130,
      "outputs": []
    },
    {
      "cell_type": "markdown",
      "source": [
        "#### Defining the Losses\n",
        "- Discriminator loss\n",
        "- Generaotr loss"
      ],
      "metadata": {
        "id": "fk3Te7wsQinw"
      }
    },
    {
      "cell_type": "code",
      "source": [
        "### For the samplpe GANs we are using the same losses\n",
        "### i.e For discriminator and generator ==> we are using the Binary Cross Entropy Losses\n",
        "\n",
        "discriminator_criterion = keras.losses.BinaryCrossentropy(from_logits = False)\n",
        "generator_criterion = keras.losses.BinaryCrossentropy(from_logits = False)\n",
        "\n",
        "\n",
        "def discriminator_loss(real_outputs, fake_outputs):\n",
        "  ## discriminator loss ==> cross entropy\n",
        "  real_labels = tf.ones(shape = (real_outputs.shape[0], 1))\n",
        "  fake_labels = tf.zeros(shape = (fake_outputs.shape[0], 1))\n",
        "\n",
        "  real_loss = discriminator_criterion(real_labels, real_outputs)\n",
        "  fake_loss =discriminator_criterion(fake_labels, fake_outputs)\n",
        "\n",
        "  return (real_loss + fake_loss)/2\n",
        "\n",
        "\n",
        "def generater_loss(fake_outputs):\n",
        "  ## generator loss => cross entropy\n",
        "  labels = tf.ones(shape = (fake_outputs.shape[0], 1))\n",
        "  loss = generator_criterion(labels, fake_outputs)\n",
        "  return loss\n",
        "\n"
      ],
      "metadata": {
        "id": "Sv0QR0UvOdKA"
      },
      "execution_count": 131,
      "outputs": []
    },
    {
      "cell_type": "code",
      "source": [
        "### Training steps for finding the forward pass and backward pass to the generator and discriminator.\n",
        "for epoch in range(n_epochs):\n",
        "  step = 0\n",
        "  print(\"Epoch : {}/{} \".format(epoch, n_epochs))\n",
        "  for real, _ in dataloaders:\n",
        "    ### training discriminator\n",
        "    noise_random = get_noise(n_samples = real.shape[0], n_dims=z_dims, std_dev=1, mean=0)\n",
        "\n",
        "    ### Forward pass\n",
        "    with tf.GradientTape() as gen_tape, tf.GradientTape() as disc_tape:\n",
        "\n",
        "      fake_outs = gen_network(noise_random)\n",
        "\n",
        "      disc_outs_fake = dis_network(fake_outs)\n",
        "      disc_outs_real = dis_network(real)\n",
        "\n",
        "      disc_loss = discriminator_loss(disc_outs_real, disc_outs_fake)\n",
        "      gen_loss = generater_loss(disc_outs_fake)\n",
        "\n",
        "    ### Backward pass by optimizer and loss\n",
        "    disc_grads = disc_tape.gradient(disc_loss, dis_network.trainable_variables)\n",
        "    dis_optimizer.apply_gradients(zip(disc_grads, dis_network.trainable_variables))\n",
        "\n",
        "    gen_grads = gen_tape.gradient(gen_loss, gen_network.trainable_variables)\n",
        "    gen_optimizer.apply_gradients(zip(gen_grads, gen_network.trainable_variables))\n",
        "\n",
        "    step += 1\n",
        "    if(step%50 == 0):\n",
        "      print(\"\\t|| discriminator_loss : {}, generator_loss : {} \".format(disc_loss, gen_loss))\n",
        "\n"
      ],
      "metadata": {
        "id": "KiHNJpeWOZsi",
        "colab": {
          "base_uri": "https://localhost:8080/"
        },
        "outputId": "152fe757-911e-4894-e451-7a9a26f41d14"
      },
      "execution_count": 132,
      "outputs": [
        {
          "output_type": "stream",
          "name": "stdout",
          "text": [
            "Epoch : 0/5 \n",
            "\t|| discriminator_loss : 1.1306486129760742, generator_loss : 0.27275729179382324 \n",
            "\t|| discriminator_loss : 1.1649426221847534, generator_loss : 0.11189033091068268 \n",
            "\t|| discriminator_loss : 2.1908395290374756, generator_loss : 0.051600031554698944 \n",
            "\t|| discriminator_loss : 1.826185703277588, generator_loss : 0.033158060163259506 \n",
            "\t|| discriminator_loss : 1.9636383056640625, generator_loss : 0.025267034769058228 \n",
            "\t|| discriminator_loss : 2.1509788036346436, generator_loss : 0.020448345690965652 \n",
            "\t|| discriminator_loss : 2.2183516025543213, generator_loss : 0.016575295478105545 \n",
            "\t|| discriminator_loss : 2.3893158435821533, generator_loss : 0.013374336063861847 \n",
            "\t|| discriminator_loss : 2.3851945400238037, generator_loss : 0.01337725855410099 \n",
            "Epoch : 1/5 \n",
            "\t|| discriminator_loss : 2.4505057334899902, generator_loss : 0.014621427282691002 \n",
            "\t|| discriminator_loss : 2.419175863265991, generator_loss : 0.019272271543741226 \n",
            "\t|| discriminator_loss : 2.372509717941284, generator_loss : 0.023174965754151344 \n",
            "\t|| discriminator_loss : 1.6691954135894775, generator_loss : 0.0478396862745285 \n",
            "\t|| discriminator_loss : 1.0344935655593872, generator_loss : 0.17002634704113007 \n",
            "\t|| discriminator_loss : 0.6183991432189941, generator_loss : 0.5404639840126038 \n",
            "\t|| discriminator_loss : 0.39462539553642273, generator_loss : 0.7172814011573792 \n",
            "\t|| discriminator_loss : 0.4640979468822479, generator_loss : 0.7930740118026733 \n",
            "\t|| discriminator_loss : 0.3889804780483246, generator_loss : 0.8343526124954224 \n",
            "Epoch : 2/5 \n",
            "\t|| discriminator_loss : 0.16354025900363922, generator_loss : 1.2850148677825928 \n",
            "\t|| discriminator_loss : 0.5388786792755127, generator_loss : 1.4772229194641113 \n",
            "\t|| discriminator_loss : 0.212876096367836, generator_loss : 1.401219367980957 \n",
            "\t|| discriminator_loss : 0.19035767018795013, generator_loss : 1.157863974571228 \n",
            "\t|| discriminator_loss : 0.198630690574646, generator_loss : 1.221961498260498 \n",
            "\t|| discriminator_loss : 0.23651309311389923, generator_loss : 1.047591209411621 \n",
            "\t|| discriminator_loss : 0.24033701419830322, generator_loss : 1.2823996543884277 \n",
            "\t|| discriminator_loss : 0.23619422316551208, generator_loss : 1.2402572631835938 \n",
            "\t|| discriminator_loss : 0.20780231058597565, generator_loss : 1.1542963981628418 \n",
            "Epoch : 3/5 \n",
            "\t|| discriminator_loss : 0.21173766255378723, generator_loss : 1.1195664405822754 \n",
            "\t|| discriminator_loss : 0.5779069662094116, generator_loss : 0.9767541885375977 \n",
            "\t|| discriminator_loss : 0.3213953673839569, generator_loss : 0.9884542226791382 \n",
            "\t|| discriminator_loss : 0.17851963639259338, generator_loss : 1.209351897239685 \n",
            "\t|| discriminator_loss : 0.2944084405899048, generator_loss : 1.1710247993469238 \n",
            "\t|| discriminator_loss : 0.17823955416679382, generator_loss : 1.2132151126861572 \n",
            "\t|| discriminator_loss : 0.2838420867919922, generator_loss : 1.3466920852661133 \n",
            "\t|| discriminator_loss : 0.13258790969848633, generator_loss : 1.46500825881958 \n",
            "\t|| discriminator_loss : 0.2143651247024536, generator_loss : 1.425352692604065 \n",
            "Epoch : 4/5 \n",
            "\t|| discriminator_loss : 0.1546039581298828, generator_loss : 1.4864223003387451 \n",
            "\t|| discriminator_loss : 0.21316993236541748, generator_loss : 1.4417450428009033 \n",
            "\t|| discriminator_loss : 0.3413475453853607, generator_loss : 1.404604434967041 \n",
            "\t|| discriminator_loss : 0.18413645029067993, generator_loss : 1.285688877105713 \n",
            "\t|| discriminator_loss : 0.3018245995044708, generator_loss : 1.2215715646743774 \n",
            "\t|| discriminator_loss : 0.1409464180469513, generator_loss : 1.4141607284545898 \n",
            "\t|| discriminator_loss : 0.20485909283161163, generator_loss : 1.2805087566375732 \n",
            "\t|| discriminator_loss : 0.23267227411270142, generator_loss : 1.2539232969284058 \n",
            "\t|| discriminator_loss : 0.17577536404132843, generator_loss : 1.461803674697876 \n"
          ]
        }
      ]
    },
    {
      "cell_type": "code",
      "source": [
        "s = get_noise(1, 64, 1, 0)"
      ],
      "metadata": {
        "id": "YrutnhEtf0mR"
      },
      "execution_count": 133,
      "outputs": []
    },
    {
      "cell_type": "code",
      "source": [
        "\n",
        "# generator = Generator()\n",
        "output = gen_network(noise)\n",
        "plt.imshow(tf.reshape(output, shape=(28,28,1)))"
      ],
      "metadata": {
        "id": "8oTIS37JMTM5",
        "colab": {
          "base_uri": "https://localhost:8080/",
          "height": 448
        },
        "outputId": "db4cfc8a-4234-4142-aec7-03b16bfe8c6b"
      },
      "execution_count": 134,
      "outputs": [
        {
          "output_type": "execute_result",
          "data": {
            "text/plain": [
              "<matplotlib.image.AxesImage at 0x7f59d8f44dc0>"
            ]
          },
          "metadata": {},
          "execution_count": 134
        },
        {
          "output_type": "display_data",
          "data": {
            "text/plain": [
              "<Figure size 640x480 with 1 Axes>"
            ],
            "image/png": "[encoded data removed]"
          },
          "metadata": {}
        }
      ]
    },
    {
      "cell_type": "code",
      "source": [],
      "metadata": {
        "id": "Ifm32-fsqJ1f"
      },
      "execution_count": 112,
      "outputs": []
    },
    {
      "cell_type": "code",
      "source": [
        "noise = tf.random.normal(shape = (1, 64), mean = 0, stddev = 1)\n",
        "output = gen_network(noise)\n",
        "# output = generator(noise)\n",
        "plt.imshow(output[0])"
      ],
      "metadata": {
        "colab": {
          "base_uri": "https://localhost:8080/",
          "height": 448
        },
        "id": "2AisQDqQwvOY",
        "outputId": "b3cf7e12-6c8c-4153-e993-5d62d83bb141"
      },
      "execution_count": 136,
      "outputs": [
        {
          "output_type": "execute_result",
          "data": {
            "text/plain": [
              "<matplotlib.image.AxesImage at 0x7f59d3e30c70>"
            ]
          },
          "metadata": {},
          "execution_count": 136
        },
        {
          "output_type": "display_data",
          "data": {
            "text/plain": [
              "<Figure size 640x480 with 1 Axes>"
            ],
            "image/png": "[encoded data removed]"
          },
          "metadata": {}
        }
      ]
    },
    {
      "cell_type": "code",
      "source": [],
      "metadata": {
        "id": "iu-DcmUpx4O8"
      },
      "execution_count": null,
      "outputs": []
    }
  ]
}